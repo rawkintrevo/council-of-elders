{
  "nbformat": 4,
  "nbformat_minor": 0,
  "metadata": {
    "colab": {
      "provenance": [],
      "authorship_tag": "ABX9TyPZjJIFMG1ZWo9hf3d1pc+U",
      "include_colab_link": true
    },
    "kernelspec": {
      "name": "python3",
      "display_name": "Python 3"
    },
    "language_info": {
      "name": "python"
    }
  },
  "cells": [
    {
      "cell_type": "markdown",
      "metadata": {
        "id": "view-in-github",
        "colab_type": "text"
      },
      "source": [
        "<a href=\"https://colab.research.google.com/github/rawkintrevo/council-of-elders/blob/main/examples/Council_of_Elders_Example.ipynb\" target=\"_parent\"><img src=\"https://colab.research.google.com/assets/colab-badge.svg\" alt=\"Open In Colab\"/></a>"
      ]
    },
    {
      "cell_type": "code",
      "execution_count": null,
      "metadata": {
        "id": "HuU5gI9WHO6Q"
      },
      "outputs": [],
      "source": [
        "!pip install git+https://github.com/rawkintrevo/council-of-elders.git"
      ]
    },
    {
      "cell_type": "code",
      "source": [
        "# Create these keys, comment out as necessary\n",
        "from google.colab import userdata\n",
        "openai_key = userdata.get('open_ai_key')\n",
        "gemeni_key = userdata.get('gemeni_key')\n",
        "claude_key = userdata.get('claude_key')"
      ],
      "metadata": {
        "id": "VMwQuUn5Hc5a"
      },
      "execution_count": 1,
      "outputs": []
    },
    {
      "cell_type": "code",
      "source": [
        "from councilofelders.anthropic import AnthropicAgent\n",
        "from councilofelders.openai import OpenAIAgent\n",
        "from councilofelders.vertex import GemeniAgent\n",
        "from councilofelders.cohort import Cohort\n",
        "\n",
        "sam = OpenAIAgent(model= 'gpt-3.5-turbo',\n",
        "            system_prompt= \"You a thought provoking asker of questions. You assist the user by asking questions that will drive the conversation foreward\",\n",
        "            temperature= 0.9,\n",
        "            name=\"GPT-3.5\",\n",
        "            api_key= openai_key)\n",
        "\n",
        "sundar = GemeniAgent(model= 'gemini-1.5-pro-latest',\n",
        "                    system_prompt= \"You are a helpful assistant, you provide concise summaries of related facts from multiple points of view to whatever the user is talking about\",\n",
        "                    temperature= 0.7,\n",
        "                    name= \"Gemeni 1.5 - The Informer\",\n",
        "                    api_key= gemeni_key)\n",
        "\n",
        "dario = AnthropicAgent(model= 'claude-3-haiku-20240307',\n",
        "                       system_prompt= \"You are a thoughtful research assistant, you provide novell insights based on facts presented and questions proposed\",\n",
        "                       temperature= 0.9,\n",
        "                       name= \"Claud 3 (Haiku) - The Dreamer\",\n",
        "                       api_key= claude_key)\n",
        "\n",
        "print(\"\\n\" + '-'*10 + '\\n')\n",
        "elders = Cohort(agents=[dario, sam,  sundar], history=[{\"name\": \"user\", \"response\": \"What should I have for breakfast tomorrow?\"}], verbose=True)\n"
      ],
      "metadata": {
        "colab": {
          "base_uri": "https://localhost:8080/"
        },
        "id": "e1VakPeRHl_m",
        "outputId": "4673c032-7afa-469d-c3b1-1d833073d283"
      },
      "execution_count": 3,
      "outputs": [
        {
          "output_type": "stream",
          "name": "stdout",
          "text": [
            "OpenAIAgent.add_message_to_history called with signature: msg=You a thought provoking asker of questions. You assist the user by asking questions that will drive the conversation foreward , who=system\n",
            "OpenAI changing role 'system' to 'assistant'\n",
            "OpenAI appending hx {role: 'assistant', content: 'You a thought provoking asker of questions. You assist the user by asking questions that will drive the conversation foreward'}\n",
            "Gemeni appending hx {role: 'model', content: 'You are a helpful assistant, you provide concise summaries of related facts from multiple points of view to whatever the user is talking about'}\n",
            "\n",
            "----------\n",
            "\n",
            "Cohort.load_history history[h_i]['name']: user\n",
            "Cohort.load_history who: assistant\n",
            "AnthropicAgent.add_message_to_history called with signature: msg=What should I have for breakfast tomorrow? , who=assistant\n",
            "Anthropic changing role 'assistant' to 'assistant'\n",
            "Anthropic appending hx {role: 'assistant', content: 'What should I have for breakfast tomorrow?'}\n",
            "AnthropicAgent.add_message_to_history corner case detected\n",
            "AnthropicAgent.add_message_to_history self.history[0]['role']: user\n",
            "Cohort.load_history history[h_i]['name']: user\n",
            "Cohort.load_history who: assistant\n",
            "OpenAIAgent.add_message_to_history called with signature: msg=What should I have for breakfast tomorrow? , who=assistant\n",
            "OpenAI changing role 'assistant' to 'assistant'\n",
            "OpenAI appending hx {role: 'assistant', content: 'What should I have for breakfast tomorrow?'}\n",
            "Cohort.load_history history[h_i]['name']: user\n",
            "Cohort.load_history who: assistant\n",
            "Gemeni appending hx {role: 'model', content: 'What should I have for breakfast tomorrow?'}\n"
          ]
        }
      ]
    },
    {
      "cell_type": "code",
      "source": [
        "for i in range(6):\n",
        "  print(f\"Generating: {i+1}/6\")\n",
        "  elders.generate_next_message()\n",
        "\n"
      ],
      "metadata": {
        "id": "4_zgG-LZILo1"
      },
      "execution_count": null,
      "outputs": []
    },
    {
      "cell_type": "code",
      "source": [
        "for i in elders.history:\n",
        "  print(f\"{i['name']}: {i['response']}\")"
      ],
      "metadata": {
        "colab": {
          "base_uri": "https://localhost:8080/"
        },
        "id": "lGC1KiHxJbzE",
        "outputId": "51b0202e-4fe7-4f67-bc7e-41358798615f"
      },
      "execution_count": 5,
      "outputs": [
        {
          "output_type": "stream",
          "name": "stdout",
          "text": [
            "user: What should I have for breakfast tomorrow?\n",
            "GPT-3.5: What are your usual breakfast choices? Are you in the mood for something savory or sweet? Do you have any dietary restrictions or preferences that can help narrow down your options?\n",
            "Gemeni 1.5 - The Informer: Let's explore some breakfast ideas based on different perspectives:\n",
            "\n",
            "**Nutrition:**\n",
            "\n",
            "*   **Balanced:** A combination of protein, complex carbohydrates, and healthy fats will keep you energized throughout the morning. Consider options like Greek yogurt with berries and granola, whole-wheat toast with avocado and eggs, or a smoothie with spinach, banana, and protein powder.\n",
            "*   **Fiber-Rich:** Starting your day with fiber aids digestion and promotes satiety. Oatmeal with fruit and nuts, a chia pudding, or whole-grain pancakes with berries are excellent choices.\n",
            "*   **Low-Carb:** If you're following a low-carb diet, focus on protein and healthy fats. Scrambled eggs with vegetables, a protein shake, or a small serving of full-fat yogurt with nuts and seeds are suitable options. \n",
            "\n",
            "**Time Constraints:**\n",
            "\n",
            "*   **Quick and Easy:** On busy mornings, prioritize options that require minimal preparation, such as overnight oats, a piece of fruit with nut butter, or a protein bar.\n",
            "*   **Make-Ahead:** If you prefer to have breakfast ready in advance, consider prepping a breakfast casserole, muffins, or egg bites over the weekend.\n",
            "\n",
            "**Culinary Preferences:**\n",
            "\n",
            "*   **Savory:** If you crave savory flavors, explore options like omelets, breakfast burritos, or avocado toast with a poached egg.\n",
            "*   **Sweet:** For those with a sweet tooth, choices like French toast, pancakes with syrup, or yogurt parfaits with granola and honey can be satisfying.\n",
            "\n",
            "**Dietary Restrictions:**\n",
            "\n",
            "*   **Gluten-Free:** Opt for gluten-free bread, oats, or cereals. You can also explore naturally gluten-free options like quinoa porridge or smoothies.\n",
            "*   **Dairy-Free:** Choose plant-based milk alternatives, yogurt, and cheese. Tofu scramble, chia pudding with coconut milk, or oatmeal with almond milk and fruit are great options.\n",
            "*   **Vegan:** Focus on plant-based protein sources like tofu, tempeh, or legumes. Vegan pancakes, smoothies with plant-based protein powder, or avocado toast with chickpeas are delicious choices. \n",
            "\n",
            "Claud 3 (Haiku) - The Dreamer: Based on the information provided, here are some breakfast ideas that could be a great option for you tomorrow:\n",
            "\n",
            "1. Balanced Breakfast: Greek yogurt with berries and granola. This provides a combination of protein, complex carbs, and healthy fats to keep you energized.\n",
            "\n",
            "2. Fiber-Rich Breakfast: Overnight oats made with rolled oats, chia seeds, almond milk, and topped with sliced banana and crushed nuts. This is a convenient, fiber-filled option.\n",
            "\n",
            "3. Low-Carb Breakfast: Scrambled eggs with sautéed spinach and tomatoes. You can add a sprinkle of cheese for extra flavor and nutrients.\n",
            "\n",
            "4. Quick and Easy Breakfast: A protein smoothie made with a plant-based protein powder, frozen berries, baby spinach, and almond milk. This can be blended quickly for a nutritious start to your day.\n",
            "\n",
            "5. Make-Ahead Breakfast: A breakfast burrito filled with scrambled eggs, black beans, diced bell peppers, and salsa. You can prepare these in advance and just reheat in the morning.\n",
            "\n",
            "6. Savory Breakfast: Avocado toast on whole-grain bread, topped with a poached egg and a sprinkle of Everything Bagel seasoning.\n",
            "\n",
            "7. Sweet Breakfast: Whole-grain pancakes with fresh blueberries and a drizzle of maple syrup.\n",
            "\n",
            "Based on your preferences and dietary needs, I would recommend exploring the balanced, fiber-rich, and low-carb options. However, feel free to choose whichever breakfast sounds most appealing and fits your morning routine. Let me know if you need any other suggestions!\n",
            "GPT-3.5: What do you think of these breakfast ideas? Do any of them sound particularly appealing to you? Are there any other ingredients or flavors you enjoy that could be incorporated into your breakfast tomorrow?\n",
            "Gemeni 1.5 - The Informer: The breakfast ideas you've listed sound fantastic! They cover a wide range of tastes and dietary needs, making it easy to find something that suits your preferences. \n",
            "\n",
            "I'm particularly drawn to the **balanced breakfast** option of Greek yogurt with berries and granola. It's a classic combination that's both delicious and nutritious. The creaminess of the yogurt, the sweetness of the berries, and the crunch of the granola create a delightful textural experience.\n",
            "\n",
            "As for additional ingredients or flavors, here are a few ideas that could enhance your breakfast:\n",
            "\n",
            "*   **Spices:** A sprinkle of cinnamon or nutmeg on your yogurt or oatmeal can add warmth and depth of flavor.\n",
            "*   **Seeds:** Adding chia seeds, flax seeds, or hemp seeds to your breakfast boosts the fiber and omega-3 content.\n",
            "*   **Nut butters:** A dollop of almond butter, peanut butter, or cashew butter on toast or pancakes provides protein and healthy fats.\n",
            "*   **Fresh herbs:** A touch of fresh mint or basil can add a refreshing twist to savory breakfast dishes.\n",
            "*   **Citrus zest:** Lemon or orange zest can brighten up the flavors of your yogurt, pancakes, or oatmeal.\n",
            "\n",
            "Ultimately, the best breakfast is one that you'll enjoy and that will fuel you for the day ahead. Feel free to experiment with different ingredients and flavors to discover your perfect morning meal.\n",
            "\n",
            "Claud 3 (Haiku) - The Dreamer: Based on the details you provided, here are some breakfast recommendations that could be a great option for you tomorrow:\n",
            "\n",
            "1. Balanced Breakfast: Greek yogurt with berries and granola. This provides a combination of protein, complex carbs, and healthy fats to keep you energized throughout the morning.\n",
            "\n",
            "2. Fiber-Rich Breakfast: Overnight oats made with rolled oats, chia seeds, almond milk, and topped with sliced banana and crushed nuts. This is a convenient, fiber-filled option.\n",
            "\n",
            "3. Low-Carb Breakfast: Scrambled eggs with sautéed spinach and tomatoes. You can add a sprinkle of cheese for extra flavor and nutrients.\n",
            "\n",
            "4. Quick and Easy Breakfast: A protein smoothie made with a plant-based protein powder, frozen berries, baby spinach, and almond milk. This can be blended quickly for a nutritious start to your day.\n",
            "\n",
            "5. Make-Ahead Breakfast: A breakfast burrito filled with scrambled eggs, black beans, diced bell peppers, and salsa. You can prepare these in advance and just reheat in the morning.\n",
            "\n",
            "6. Savory Breakfast: Avocado toast on whole-grain bread, topped with a poached egg and a sprinkle of Everything Bagel seasoning.\n",
            "\n",
            "7. Sweet Breakfast: Whole-grain pancakes with fresh blueberries and a drizzle of maple syrup.\n",
            "\n",
            "Based on your preferences and dietary needs, I would recommend exploring the balanced, fiber-rich, and low-carb options. However, feel free to choose whichever breakfast sounds most appealing and fits your morning routine. \n",
            "\n",
            "To further enhance your breakfast, you could consider adding:\n",
            "\n",
            "- Spices like cinnamon or nutmeg\n",
            "- Seeds like chia, flax, or hemp\n",
            "- Nut butters for extra protein and healthy fats\n",
            "- Fresh herbs like mint or basil\n",
            "- Citrus zest to brighten the flavors\n",
            "\n",
            "Let me know if you have any other questions or if you need additional suggestions!\n"
          ]
        }
      ]
    },
    {
      "cell_type": "code",
      "source": [],
      "metadata": {
        "id": "ve-taCJTJcNj"
      },
      "execution_count": null,
      "outputs": []
    }
  ]
}