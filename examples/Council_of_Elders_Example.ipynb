{
  "nbformat": 4,
  "nbformat_minor": 0,
  "metadata": {
    "colab": {
      "provenance": [],
      "authorship_tag": "ABX9TyN9YGMMRHZbwSMNwfE9syqJ",
      "include_colab_link": true
    },
    "kernelspec": {
      "name": "python3",
      "display_name": "Python 3"
    },
    "language_info": {
      "name": "python"
    }
  },
  "cells": [
    {
      "cell_type": "markdown",
      "metadata": {
        "id": "view-in-github",
        "colab_type": "text"
      },
      "source": [
        "<a href=\"https://colab.research.google.com/github/rawkintrevo/council-of-elders/blob/main/examples/Council_of_Elders_Example.ipynb\" target=\"_parent\"><img src=\"https://colab.research.google.com/assets/colab-badge.svg\" alt=\"Open In Colab\"/></a>"
      ]
    },
    {
      "cell_type": "code",
      "execution_count": 1,
      "metadata": {
        "id": "HuU5gI9WHO6Q",
        "outputId": "ab742d31-2a79-49dd-97ef-eb9d00226bf3",
        "colab": {
          "base_uri": "https://localhost:8080/"
        }
      },
      "outputs": [
        {
          "output_type": "stream",
          "name": "stdout",
          "text": [
            "Collecting git+https://github.com/rawkintrevo/council-of-elders.git\n",
            "  Cloning https://github.com/rawkintrevo/council-of-elders.git to /tmp/pip-req-build-5xikzreo\n",
            "  Running command git clone --filter=blob:none --quiet https://github.com/rawkintrevo/council-of-elders.git /tmp/pip-req-build-5xikzreo\n",
            "  Resolved https://github.com/rawkintrevo/council-of-elders.git to commit 5811bf825efb0cd9f0ad616688f109146748f434\n",
            "  Installing build dependencies ... \u001b[?25l\u001b[?25hdone\n",
            "  Getting requirements to build wheel ... \u001b[?25l\u001b[?25hdone\n",
            "  Preparing metadata (pyproject.toml) ... \u001b[?25l\u001b[?25hdone\n",
            "Collecting anthropic==0.25.6 (from councilofelders==0.1.0)\n",
            "  Downloading anthropic-0.25.6-py3-none-any.whl (870 kB)\n",
            "\u001b[2K     \u001b[90m━━━━━━━━━━━━━━━━━━━━━━━━━━━━━━━━━━━━━━━━\u001b[0m \u001b[32m870.7/870.7 kB\u001b[0m \u001b[31m11.5 MB/s\u001b[0m eta \u001b[36m0:00:00\u001b[0m\n",
            "\u001b[?25hRequirement already satisfied: google-generativeai==0.5.2 in /usr/local/lib/python3.10/dist-packages (from councilofelders==0.1.0) (0.5.2)\n",
            "Collecting llama-index-embeddings-openai==0.1.8 (from councilofelders==0.1.0)\n",
            "  Downloading llama_index_embeddings_openai-0.1.8-py3-none-any.whl (6.0 kB)\n",
            "Collecting llama-index-llms-openai==0.1.16 (from councilofelders==0.1.0)\n",
            "  Downloading llama_index_llms_openai-0.1.16-py3-none-any.whl (10 kB)\n",
            "Collecting llama-index-vector-stores-pinecone==0.1.6 (from councilofelders==0.1.0)\n",
            "  Downloading llama_index_vector_stores_pinecone-0.1.6-py3-none-any.whl (6.7 kB)\n",
            "Collecting openai==1.23.3 (from councilofelders==0.1.0)\n",
            "  Downloading openai-1.23.3-py3-none-any.whl (311 kB)\n",
            "\u001b[2K     \u001b[90m━━━━━━━━━━━━━━━━━━━━━━━━━━━━━━━━━━━━━━━━\u001b[0m \u001b[32m311.5/311.5 kB\u001b[0m \u001b[31m22.1 MB/s\u001b[0m eta \u001b[36m0:00:00\u001b[0m\n",
            "\u001b[?25hCollecting pinecone-client==3.2.2 (from councilofelders==0.1.0)\n",
            "  Downloading pinecone_client-3.2.2-py3-none-any.whl (215 kB)\n",
            "\u001b[2K     \u001b[90m━━━━━━━━━━━━━━━━━━━━━━━━━━━━━━━━━━━━━━━━\u001b[0m \u001b[32m215.9/215.9 kB\u001b[0m \u001b[31m15.2 MB/s\u001b[0m eta \u001b[36m0:00:00\u001b[0m\n",
            "\u001b[?25hCollecting replicate==0.25.2 (from councilofelders==0.1.0)\n",
            "  Downloading replicate-0.25.2-py3-none-any.whl (39 kB)\n",
            "Requirement already satisfied: anyio<5,>=3.5.0 in /usr/local/lib/python3.10/dist-packages (from anthropic==0.25.6->councilofelders==0.1.0) (3.7.1)\n",
            "Requirement already satisfied: distro<2,>=1.7.0 in /usr/lib/python3/dist-packages (from anthropic==0.25.6->councilofelders==0.1.0) (1.7.0)\n",
            "Collecting httpx<1,>=0.23.0 (from anthropic==0.25.6->councilofelders==0.1.0)\n",
            "  Downloading httpx-0.27.0-py3-none-any.whl (75 kB)\n",
            "\u001b[2K     \u001b[90m━━━━━━━━━━━━━━━━━━━━━━━━━━━━━━━━━━━━━━━━\u001b[0m \u001b[32m75.6/75.6 kB\u001b[0m \u001b[31m6.1 MB/s\u001b[0m eta \u001b[36m0:00:00\u001b[0m\n",
            "\u001b[?25hRequirement already satisfied: pydantic<3,>=1.9.0 in /usr/local/lib/python3.10/dist-packages (from anthropic==0.25.6->councilofelders==0.1.0) (2.7.1)\n",
            "Requirement already satisfied: sniffio in /usr/local/lib/python3.10/dist-packages (from anthropic==0.25.6->councilofelders==0.1.0) (1.3.1)\n",
            "Requirement already satisfied: tokenizers>=0.13.0 in /usr/local/lib/python3.10/dist-packages (from anthropic==0.25.6->councilofelders==0.1.0) (0.19.1)\n",
            "Requirement already satisfied: typing-extensions<5,>=4.7 in /usr/local/lib/python3.10/dist-packages (from anthropic==0.25.6->councilofelders==0.1.0) (4.11.0)\n",
            "Requirement already satisfied: google-ai-generativelanguage==0.6.2 in /usr/local/lib/python3.10/dist-packages (from google-generativeai==0.5.2->councilofelders==0.1.0) (0.6.2)\n",
            "Requirement already satisfied: google-api-core in /usr/local/lib/python3.10/dist-packages (from google-generativeai==0.5.2->councilofelders==0.1.0) (2.11.1)\n",
            "Requirement already satisfied: google-api-python-client in /usr/local/lib/python3.10/dist-packages (from google-generativeai==0.5.2->councilofelders==0.1.0) (2.84.0)\n",
            "Requirement already satisfied: google-auth>=2.15.0 in /usr/local/lib/python3.10/dist-packages (from google-generativeai==0.5.2->councilofelders==0.1.0) (2.27.0)\n",
            "Requirement already satisfied: protobuf in /usr/local/lib/python3.10/dist-packages (from google-generativeai==0.5.2->councilofelders==0.1.0) (3.20.3)\n",
            "Requirement already satisfied: tqdm in /usr/local/lib/python3.10/dist-packages (from google-generativeai==0.5.2->councilofelders==0.1.0) (4.66.2)\n",
            "Collecting llama-index-core<0.11.0,>=0.10.1 (from llama-index-embeddings-openai==0.1.8->councilofelders==0.1.0)\n",
            "  Downloading llama_index_core-0.10.34-py3-none-any.whl (15.4 MB)\n",
            "\u001b[2K     \u001b[90m━━━━━━━━━━━━━━━━━━━━━━━━━━━━━━━━━━━━━━━━\u001b[0m \u001b[32m15.4/15.4 MB\u001b[0m \u001b[31m54.2 MB/s\u001b[0m eta \u001b[36m0:00:00\u001b[0m\n",
            "\u001b[?25hRequirement already satisfied: certifi>=2019.11.17 in /usr/local/lib/python3.10/dist-packages (from pinecone-client==3.2.2->councilofelders==0.1.0) (2024.2.2)\n",
            "Requirement already satisfied: urllib3>=1.26.0 in /usr/local/lib/python3.10/dist-packages (from pinecone-client==3.2.2->councilofelders==0.1.0) (2.0.7)\n",
            "Requirement already satisfied: packaging in /usr/local/lib/python3.10/dist-packages (from replicate==0.25.2->councilofelders==0.1.0) (24.0)\n",
            "Requirement already satisfied: proto-plus<2.0.0dev,>=1.22.3 in /usr/local/lib/python3.10/dist-packages (from google-ai-generativelanguage==0.6.2->google-generativeai==0.5.2->councilofelders==0.1.0) (1.23.0)\n",
            "Requirement already satisfied: idna>=2.8 in /usr/local/lib/python3.10/dist-packages (from anyio<5,>=3.5.0->anthropic==0.25.6->councilofelders==0.1.0) (3.7)\n",
            "Requirement already satisfied: exceptiongroup in /usr/local/lib/python3.10/dist-packages (from anyio<5,>=3.5.0->anthropic==0.25.6->councilofelders==0.1.0) (1.2.1)\n",
            "Requirement already satisfied: cachetools<6.0,>=2.0.0 in /usr/local/lib/python3.10/dist-packages (from google-auth>=2.15.0->google-generativeai==0.5.2->councilofelders==0.1.0) (5.3.3)\n",
            "Requirement already satisfied: pyasn1-modules>=0.2.1 in /usr/local/lib/python3.10/dist-packages (from google-auth>=2.15.0->google-generativeai==0.5.2->councilofelders==0.1.0) (0.4.0)\n",
            "Requirement already satisfied: rsa<5,>=3.1.4 in /usr/local/lib/python3.10/dist-packages (from google-auth>=2.15.0->google-generativeai==0.5.2->councilofelders==0.1.0) (4.9)\n",
            "Collecting httpcore==1.* (from httpx<1,>=0.23.0->anthropic==0.25.6->councilofelders==0.1.0)\n",
            "  Downloading httpcore-1.0.5-py3-none-any.whl (77 kB)\n",
            "\u001b[2K     \u001b[90m━━━━━━━━━━━━━━━━━━━━━━━━━━━━━━━━━━━━━━━━\u001b[0m \u001b[32m77.9/77.9 kB\u001b[0m \u001b[31m5.1 MB/s\u001b[0m eta \u001b[36m0:00:00\u001b[0m\n",
            "\u001b[?25hCollecting h11<0.15,>=0.13 (from httpcore==1.*->httpx<1,>=0.23.0->anthropic==0.25.6->councilofelders==0.1.0)\n",
            "  Downloading h11-0.14.0-py3-none-any.whl (58 kB)\n",
            "\u001b[2K     \u001b[90m━━━━━━━━━━━━━━━━━━━━━━━━━━━━━━━━━━━━━━━━\u001b[0m \u001b[32m58.3/58.3 kB\u001b[0m \u001b[31m4.0 MB/s\u001b[0m eta \u001b[36m0:00:00\u001b[0m\n",
            "\u001b[?25hRequirement already satisfied: PyYAML>=6.0.1 in /usr/local/lib/python3.10/dist-packages (from llama-index-core<0.11.0,>=0.10.1->llama-index-embeddings-openai==0.1.8->councilofelders==0.1.0) (6.0.1)\n",
            "Requirement already satisfied: SQLAlchemy[asyncio]>=1.4.49 in /usr/local/lib/python3.10/dist-packages (from llama-index-core<0.11.0,>=0.10.1->llama-index-embeddings-openai==0.1.8->councilofelders==0.1.0) (2.0.29)\n",
            "Requirement already satisfied: aiohttp<4.0.0,>=3.8.6 in /usr/local/lib/python3.10/dist-packages (from llama-index-core<0.11.0,>=0.10.1->llama-index-embeddings-openai==0.1.8->councilofelders==0.1.0) (3.9.5)\n",
            "Collecting dataclasses-json (from llama-index-core<0.11.0,>=0.10.1->llama-index-embeddings-openai==0.1.8->councilofelders==0.1.0)\n",
            "  Downloading dataclasses_json-0.6.5-py3-none-any.whl (28 kB)\n",
            "Collecting deprecated>=1.2.9.3 (from llama-index-core<0.11.0,>=0.10.1->llama-index-embeddings-openai==0.1.8->councilofelders==0.1.0)\n",
            "  Downloading Deprecated-1.2.14-py2.py3-none-any.whl (9.6 kB)\n",
            "Collecting dirtyjson<2.0.0,>=1.0.8 (from llama-index-core<0.11.0,>=0.10.1->llama-index-embeddings-openai==0.1.8->councilofelders==0.1.0)\n",
            "  Downloading dirtyjson-1.0.8-py3-none-any.whl (25 kB)\n",
            "Requirement already satisfied: fsspec>=2023.5.0 in /usr/local/lib/python3.10/dist-packages (from llama-index-core<0.11.0,>=0.10.1->llama-index-embeddings-openai==0.1.8->councilofelders==0.1.0) (2023.6.0)\n",
            "Collecting llamaindex-py-client<0.2.0,>=0.1.18 (from llama-index-core<0.11.0,>=0.10.1->llama-index-embeddings-openai==0.1.8->councilofelders==0.1.0)\n",
            "  Downloading llamaindex_py_client-0.1.19-py3-none-any.whl (141 kB)\n",
            "\u001b[2K     \u001b[90m━━━━━━━━━━━━━━━━━━━━━━━━━━━━━━━━━━━━━━━━\u001b[0m \u001b[32m141.9/141.9 kB\u001b[0m \u001b[31m13.9 MB/s\u001b[0m eta \u001b[36m0:00:00\u001b[0m\n",
            "\u001b[?25hRequirement already satisfied: nest-asyncio<2.0.0,>=1.5.8 in /usr/local/lib/python3.10/dist-packages (from llama-index-core<0.11.0,>=0.10.1->llama-index-embeddings-openai==0.1.8->councilofelders==0.1.0) (1.6.0)\n",
            "Requirement already satisfied: networkx>=3.0 in /usr/local/lib/python3.10/dist-packages (from llama-index-core<0.11.0,>=0.10.1->llama-index-embeddings-openai==0.1.8->councilofelders==0.1.0) (3.3)\n",
            "Requirement already satisfied: nltk<4.0.0,>=3.8.1 in /usr/local/lib/python3.10/dist-packages (from llama-index-core<0.11.0,>=0.10.1->llama-index-embeddings-openai==0.1.8->councilofelders==0.1.0) (3.8.1)\n",
            "Requirement already satisfied: numpy in /usr/local/lib/python3.10/dist-packages (from llama-index-core<0.11.0,>=0.10.1->llama-index-embeddings-openai==0.1.8->councilofelders==0.1.0) (1.25.2)\n",
            "Requirement already satisfied: pandas in /usr/local/lib/python3.10/dist-packages (from llama-index-core<0.11.0,>=0.10.1->llama-index-embeddings-openai==0.1.8->councilofelders==0.1.0) (2.0.3)\n",
            "Requirement already satisfied: pillow>=9.0.0 in /usr/local/lib/python3.10/dist-packages (from llama-index-core<0.11.0,>=0.10.1->llama-index-embeddings-openai==0.1.8->councilofelders==0.1.0) (9.4.0)\n",
            "Requirement already satisfied: requests>=2.31.0 in /usr/local/lib/python3.10/dist-packages (from llama-index-core<0.11.0,>=0.10.1->llama-index-embeddings-openai==0.1.8->councilofelders==0.1.0) (2.31.0)\n",
            "Requirement already satisfied: tenacity<9.0.0,>=8.2.0 in /usr/local/lib/python3.10/dist-packages (from llama-index-core<0.11.0,>=0.10.1->llama-index-embeddings-openai==0.1.8->councilofelders==0.1.0) (8.2.3)\n",
            "Collecting tiktoken>=0.3.3 (from llama-index-core<0.11.0,>=0.10.1->llama-index-embeddings-openai==0.1.8->councilofelders==0.1.0)\n",
            "  Downloading tiktoken-0.6.0-cp310-cp310-manylinux_2_17_x86_64.manylinux2014_x86_64.whl (1.8 MB)\n",
            "\u001b[2K     \u001b[90m━━━━━━━━━━━━━━━━━━━━━━━━━━━━━━━━━━━━━━━━\u001b[0m \u001b[32m1.8/1.8 MB\u001b[0m \u001b[31m30.4 MB/s\u001b[0m eta \u001b[36m0:00:00\u001b[0m\n",
            "\u001b[?25hCollecting typing-inspect>=0.8.0 (from llama-index-core<0.11.0,>=0.10.1->llama-index-embeddings-openai==0.1.8->councilofelders==0.1.0)\n",
            "  Downloading typing_inspect-0.9.0-py3-none-any.whl (8.8 kB)\n",
            "Requirement already satisfied: wrapt in /usr/local/lib/python3.10/dist-packages (from llama-index-core<0.11.0,>=0.10.1->llama-index-embeddings-openai==0.1.8->councilofelders==0.1.0) (1.14.1)\n",
            "Requirement already satisfied: annotated-types>=0.4.0 in /usr/local/lib/python3.10/dist-packages (from pydantic<3,>=1.9.0->anthropic==0.25.6->councilofelders==0.1.0) (0.6.0)\n",
            "Requirement already satisfied: pydantic-core==2.18.2 in /usr/local/lib/python3.10/dist-packages (from pydantic<3,>=1.9.0->anthropic==0.25.6->councilofelders==0.1.0) (2.18.2)\n",
            "Requirement already satisfied: huggingface-hub<1.0,>=0.16.4 in /usr/local/lib/python3.10/dist-packages (from tokenizers>=0.13.0->anthropic==0.25.6->councilofelders==0.1.0) (0.20.3)\n",
            "Requirement already satisfied: googleapis-common-protos<2.0.dev0,>=1.56.2 in /usr/local/lib/python3.10/dist-packages (from google-api-core->google-generativeai==0.5.2->councilofelders==0.1.0) (1.63.0)\n",
            "Requirement already satisfied: httplib2<1dev,>=0.15.0 in /usr/local/lib/python3.10/dist-packages (from google-api-python-client->google-generativeai==0.5.2->councilofelders==0.1.0) (0.22.0)\n",
            "Requirement already satisfied: google-auth-httplib2>=0.1.0 in /usr/local/lib/python3.10/dist-packages (from google-api-python-client->google-generativeai==0.5.2->councilofelders==0.1.0) (0.1.1)\n",
            "Requirement already satisfied: uritemplate<5,>=3.0.1 in /usr/local/lib/python3.10/dist-packages (from google-api-python-client->google-generativeai==0.5.2->councilofelders==0.1.0) (4.1.1)\n",
            "Requirement already satisfied: aiosignal>=1.1.2 in /usr/local/lib/python3.10/dist-packages (from aiohttp<4.0.0,>=3.8.6->llama-index-core<0.11.0,>=0.10.1->llama-index-embeddings-openai==0.1.8->councilofelders==0.1.0) (1.3.1)\n",
            "Requirement already satisfied: attrs>=17.3.0 in /usr/local/lib/python3.10/dist-packages (from aiohttp<4.0.0,>=3.8.6->llama-index-core<0.11.0,>=0.10.1->llama-index-embeddings-openai==0.1.8->councilofelders==0.1.0) (23.2.0)\n",
            "Requirement already satisfied: frozenlist>=1.1.1 in /usr/local/lib/python3.10/dist-packages (from aiohttp<4.0.0,>=3.8.6->llama-index-core<0.11.0,>=0.10.1->llama-index-embeddings-openai==0.1.8->councilofelders==0.1.0) (1.4.1)\n",
            "Requirement already satisfied: multidict<7.0,>=4.5 in /usr/local/lib/python3.10/dist-packages (from aiohttp<4.0.0,>=3.8.6->llama-index-core<0.11.0,>=0.10.1->llama-index-embeddings-openai==0.1.8->councilofelders==0.1.0) (6.0.5)\n",
            "Requirement already satisfied: yarl<2.0,>=1.0 in /usr/local/lib/python3.10/dist-packages (from aiohttp<4.0.0,>=3.8.6->llama-index-core<0.11.0,>=0.10.1->llama-index-embeddings-openai==0.1.8->councilofelders==0.1.0) (1.9.4)\n",
            "Requirement already satisfied: async-timeout<5.0,>=4.0 in /usr/local/lib/python3.10/dist-packages (from aiohttp<4.0.0,>=3.8.6->llama-index-core<0.11.0,>=0.10.1->llama-index-embeddings-openai==0.1.8->councilofelders==0.1.0) (4.0.3)\n",
            "Requirement already satisfied: grpcio<2.0dev,>=1.33.2 in /usr/local/lib/python3.10/dist-packages (from google-api-core->google-generativeai==0.5.2->councilofelders==0.1.0) (1.63.0)\n",
            "Requirement already satisfied: grpcio-status<2.0.dev0,>=1.33.2 in /usr/local/lib/python3.10/dist-packages (from google-api-core->google-generativeai==0.5.2->councilofelders==0.1.0) (1.48.2)\n",
            "Requirement already satisfied: pyparsing!=3.0.0,!=3.0.1,!=3.0.2,!=3.0.3,<4,>=2.4.2 in /usr/local/lib/python3.10/dist-packages (from httplib2<1dev,>=0.15.0->google-api-python-client->google-generativeai==0.5.2->councilofelders==0.1.0) (3.1.2)\n",
            "Requirement already satisfied: filelock in /usr/local/lib/python3.10/dist-packages (from huggingface-hub<1.0,>=0.16.4->tokenizers>=0.13.0->anthropic==0.25.6->councilofelders==0.1.0) (3.14.0)\n",
            "Requirement already satisfied: click in /usr/local/lib/python3.10/dist-packages (from nltk<4.0.0,>=3.8.1->llama-index-core<0.11.0,>=0.10.1->llama-index-embeddings-openai==0.1.8->councilofelders==0.1.0) (8.1.7)\n",
            "Requirement already satisfied: joblib in /usr/local/lib/python3.10/dist-packages (from nltk<4.0.0,>=3.8.1->llama-index-core<0.11.0,>=0.10.1->llama-index-embeddings-openai==0.1.8->councilofelders==0.1.0) (1.4.0)\n",
            "Requirement already satisfied: regex>=2021.8.3 in /usr/local/lib/python3.10/dist-packages (from nltk<4.0.0,>=3.8.1->llama-index-core<0.11.0,>=0.10.1->llama-index-embeddings-openai==0.1.8->councilofelders==0.1.0) (2023.12.25)\n",
            "Requirement already satisfied: pyasn1<0.7.0,>=0.4.6 in /usr/local/lib/python3.10/dist-packages (from pyasn1-modules>=0.2.1->google-auth>=2.15.0->google-generativeai==0.5.2->councilofelders==0.1.0) (0.6.0)\n",
            "Requirement already satisfied: charset-normalizer<4,>=2 in /usr/local/lib/python3.10/dist-packages (from requests>=2.31.0->llama-index-core<0.11.0,>=0.10.1->llama-index-embeddings-openai==0.1.8->councilofelders==0.1.0) (3.3.2)\n",
            "Requirement already satisfied: greenlet!=0.4.17 in /usr/local/lib/python3.10/dist-packages (from SQLAlchemy[asyncio]>=1.4.49->llama-index-core<0.11.0,>=0.10.1->llama-index-embeddings-openai==0.1.8->councilofelders==0.1.0) (3.0.3)\n",
            "Collecting mypy-extensions>=0.3.0 (from typing-inspect>=0.8.0->llama-index-core<0.11.0,>=0.10.1->llama-index-embeddings-openai==0.1.8->councilofelders==0.1.0)\n",
            "  Downloading mypy_extensions-1.0.0-py3-none-any.whl (4.7 kB)\n",
            "Collecting marshmallow<4.0.0,>=3.18.0 (from dataclasses-json->llama-index-core<0.11.0,>=0.10.1->llama-index-embeddings-openai==0.1.8->councilofelders==0.1.0)\n",
            "  Downloading marshmallow-3.21.2-py3-none-any.whl (49 kB)\n",
            "\u001b[2K     \u001b[90m━━━━━━━━━━━━━━━━━━━━━━━━━━━━━━━━━━━━━━━━\u001b[0m \u001b[32m49.3/49.3 kB\u001b[0m \u001b[31m2.7 MB/s\u001b[0m eta \u001b[36m0:00:00\u001b[0m\n",
            "\u001b[?25hRequirement already satisfied: python-dateutil>=2.8.2 in /usr/local/lib/python3.10/dist-packages (from pandas->llama-index-core<0.11.0,>=0.10.1->llama-index-embeddings-openai==0.1.8->councilofelders==0.1.0) (2.8.2)\n",
            "Requirement already satisfied: pytz>=2020.1 in /usr/local/lib/python3.10/dist-packages (from pandas->llama-index-core<0.11.0,>=0.10.1->llama-index-embeddings-openai==0.1.8->councilofelders==0.1.0) (2023.4)\n",
            "Requirement already satisfied: tzdata>=2022.1 in /usr/local/lib/python3.10/dist-packages (from pandas->llama-index-core<0.11.0,>=0.10.1->llama-index-embeddings-openai==0.1.8->councilofelders==0.1.0) (2024.1)\n",
            "Requirement already satisfied: six>=1.5 in /usr/local/lib/python3.10/dist-packages (from python-dateutil>=2.8.2->pandas->llama-index-core<0.11.0,>=0.10.1->llama-index-embeddings-openai==0.1.8->councilofelders==0.1.0) (1.16.0)\n",
            "Building wheels for collected packages: councilofelders\n",
            "  Building wheel for councilofelders (pyproject.toml) ... \u001b[?25l\u001b[?25hdone\n",
            "  Created wheel for councilofelders: filename=councilofelders-0.1.0-py3-none-any.whl size=7519 sha256=202ceb93786a37bff56940418f64444d5767264bc13a92433f17980cfd1c7062\n",
            "  Stored in directory: /tmp/pip-ephem-wheel-cache-r3fozti6/wheels/26/fd/de/20ebc489b04017bbda6ebdb818936c9627af40aefd41517f0d\n",
            "Successfully built councilofelders\n",
            "Installing collected packages: dirtyjson, pinecone-client, mypy-extensions, marshmallow, h11, deprecated, typing-inspect, tiktoken, httpcore, httpx, dataclasses-json, replicate, openai, llamaindex-py-client, anthropic, llama-index-core, llama-index-vector-stores-pinecone, llama-index-llms-openai, llama-index-embeddings-openai, councilofelders\n",
            "Successfully installed anthropic-0.25.6 councilofelders-0.1.0 dataclasses-json-0.6.5 deprecated-1.2.14 dirtyjson-1.0.8 h11-0.14.0 httpcore-1.0.5 httpx-0.27.0 llama-index-core-0.10.34 llama-index-embeddings-openai-0.1.8 llama-index-llms-openai-0.1.16 llama-index-vector-stores-pinecone-0.1.6 llamaindex-py-client-0.1.19 marshmallow-3.21.2 mypy-extensions-1.0.0 openai-1.23.3 pinecone-client-3.2.2 replicate-0.25.2 tiktoken-0.6.0 typing-inspect-0.9.0\n"
          ]
        }
      ],
      "source": [
        "!pip install git+https://github.com/rawkintrevo/council-of-elders.git"
      ]
    },
    {
      "cell_type": "code",
      "source": [
        "# Create these keys, comment out as necessary\n",
        "from google.colab import userdata\n",
        "openai_key = userdata.get('open_ai_key')\n",
        "gemeni_key = userdata.get('gemeni_key')\n",
        "claude_key = userdata.get('claude_key')\n",
        "replicate_key = userdata.get('replicate_api_key')"
      ],
      "metadata": {
        "id": "VMwQuUn5Hc5a"
      },
      "execution_count": 2,
      "outputs": []
    },
    {
      "cell_type": "code",
      "source": [
        "from councilofelders.anthropic import AnthropicAgent\n",
        "from councilofelders.openai import OpenAIAgent\n",
        "from councilofelders.vertex import GemeniAgent\n",
        "from councilofelders.replicate import ReplicateLlamaAgent\n",
        "from councilofelders.cohort import Cohort\n",
        "\n",
        "openai = OpenAIAgent(model= 'gpt-3.5-turbo',\n",
        "            system_prompt= \"You a thought provoking asker of questions. You assist the user by asking questions that will drive the conversation foreward\",\n",
        "            temperature= 0.9,\n",
        "            name=\"openai\",\n",
        "            api_key= openai_key)\n",
        "\n",
        "google = GemeniAgent(model= 'gemini-1.5-pro-latest',\n",
        "                    system_prompt= \"You are a helpful assistant, you provide concise summaries of related facts from multiple points of view to whatever the user is talking about\",\n",
        "                    temperature= 0.7,\n",
        "                    name= \"Gemeni 1.5 - The Informer\",\n",
        "                    api_key= gemeni_key)\n",
        "\n",
        "anthropic = AnthropicAgent(model= 'claude-3-haiku-20240307',\n",
        "                       system_prompt= \"You are a thoughtful research assistant, you provide novell insights based on facts presented and questions proposed\",\n",
        "                       temperature= 0.9,\n",
        "                       name= \"Claud 3 (Haiku) - The Dreamer\",\n",
        "                       api_key= claude_key)\n",
        "\n",
        "meta = ReplicateLlamaAgent(model=\"meta/llama-2-70b-chat\",\n",
        "                      system_prompt=\"You are a helpful assistant.\",\n",
        "                      temperature=0.7,\n",
        "                      name=\"Your Mama the Llama\",\n",
        "                      api_key=replicate_key)\n",
        "\n",
        "print(\"\\n\" + '-'*10 + '\\n')\n",
        "elders = Cohort(agents=[openai,\n",
        "                        # google, # runs out of juice\n",
        "                        anthropic,\n",
        "                        meta], history=[{\"name\": \"user\", \"response\": \"What should I have for breakfast tomorrow?\"}])\n"
      ],
      "metadata": {
        "colab": {
          "base_uri": "https://localhost:8080/"
        },
        "id": "e1VakPeRHl_m",
        "outputId": "5b9de873-9684-405d-a8da-911ffb2b58b2"
      },
      "execution_count": 3,
      "outputs": [
        {
          "output_type": "stream",
          "name": "stdout",
          "text": [
            "\n",
            "----------\n",
            "\n"
          ]
        }
      ]
    },
    {
      "cell_type": "code",
      "source": [
        "for i in range(6):\n",
        "  print(f\"Generating: {i+1}/6\")\n",
        "  elders.generate_next_message()\n",
        "\n"
      ],
      "metadata": {
        "id": "4_zgG-LZILo1",
        "outputId": "d118a826-2c08-4ea9-e18f-a549f2e54dba",
        "colab": {
          "base_uri": "https://localhost:8080/"
        }
      },
      "execution_count": 4,
      "outputs": [
        {
          "output_type": "stream",
          "name": "stdout",
          "text": [
            "Generating: 1/6\n",
            "Generating: 2/6\n",
            "Generating: 3/6\n",
            "Generating: 4/6\n",
            "Generating: 5/6\n",
            "Generating: 6/6\n"
          ]
        }
      ]
    },
    {
      "cell_type": "code",
      "source": [
        "for i in elders.history:\n",
        "  print(f\"{i['name']}: {i['response']}\")"
      ],
      "metadata": {
        "colab": {
          "base_uri": "https://localhost:8080/"
        },
        "id": "lGC1KiHxJbzE",
        "outputId": "4ca3c9de-7d4e-40bd-9d59-f620394d5cb6"
      },
      "execution_count": 5,
      "outputs": [
        {
          "output_type": "stream",
          "name": "stdout",
          "text": [
            "user: What should I have for breakfast tomorrow?\n",
            "Claud 3 (Haiku) - The Dreamer: I don't have enough information about your personal preferences, dietary needs, or what foods are available to you to make a specific breakfast recommendation. However, here are some general tips for a healthy and satisfying breakfast:\n",
            "\n",
            "- Focus on getting a balance of protein, complex carbs, healthy fats, and fiber. This could include things like eggs, whole grain toast, avocado, yogurt, oatmeal, berries, nuts, etc.\n",
            "\n",
            "- Choose whole, minimally processed foods when possible. Avoid sugary cereals, pastries, etc.\n",
            "\n",
            "- Stay hydrated by drinking water or unsweetened beverages.\n",
            "\n",
            "- Consider your activity level and energy needs for the day. A heartier breakfast may be better if you have a busy day ahead.\n",
            "\n",
            "- Pay attention to any food intolerances or allergies you have.\n",
            "\n",
            "The \"best\" breakfast is really quite personal. I'd suggest reflecting on what sounds appealing and nourishing to you based on your own preferences and goals. Feel free to let me know if you have any other details that could help me provide a more tailored recommendation.\n",
            "Your Mama the Llama:  Sure, I can do that! Here are some additional questions to help me better understand your preferences and needs:\n",
            "\n",
            "1. Do you have any dietary restrictions or allergies I should be aware of?\n",
            "2. What are your favorite breakfast foods or ingredients?\n",
            "3. Do you prefer sweet or savory breakfast options?\n",
            "4. How much time do you have in the morning to prepare breakfast?\n",
            "5. Are there any specific nutrients or macronutrients you're looking to prioritize in your breakfast?\n",
            "6. Do you have a budget in mind\n",
            "openai:  for breakfast ingredients?\n",
            "\n",
            "Feel free to provide any additional information that could help me give you a more personalized breakfast recommendation.\n",
            "Claud 3 (Haiku) - The Dreamer: Thanks for the additional questions! Here are some more details about my preferences:\n",
            "\n",
            "1. No major dietary restrictions or allergies, though I try to limit my dairy intake.\n",
            "\n",
            "2. I really enjoy things like eggs, avocado, oatmeal, berries, nuts, and whole grain toast. I'm open to trying new things as well.\n",
            "\n",
            "3. I tend to prefer more savory breakfast options over super sweet ones.\n",
            "\n",
            "4. I usually have about 15-20 minutes to prepare breakfast on a typical weekday morning.\n",
            "\n",
            "5. I'm generally looking to get a good balance of protein, complex carbs, healthy fats, and fiber to give me sustained energy.\n",
            "\n",
            "6. My breakfast budget is fairly flexible, but I try to keep it reasonable and avoid anything too expensive.\n",
            "\n",
            "Does this help provide a clearer picture? Let me know if you have any other questions!\n",
            "Your Mama the Llama:  Great, thanks for providing more information! Based on your preferences, here are some breakfast ideas that might work well for you:\n",
            "\n",
            "1. Avocado and egg toast: Toast some whole grain bread, mash an avocado, and spread it on top. Add a fried or poached egg and a sprinkle of salt and pepper.\n",
            "2. Oatmeal bowl: Cook some steel-cut oats with milk or water and top with your favorite fruits, nuts, and seeds. You could also add a dollop of yogurt or a spr\n",
            "openai: inkle of cinnamon for extra flavor.\n",
            "3. Greek yogurt parfait: Layer Greek yogurt with granola, berries, and a drizzle of honey or maple syrup for a satisfying and protein-packed breakfast.\n",
            "4. Veggie omelette: Sautee some vegetables like bell peppers, onions, and spinach, then pour beaten eggs over them in a pan to make a tasty omelette. Add some cheese if you like.\n",
            "5. Chia seed pudding: Mix chia seeds with almond milk and let it sit in the fridge overnight to create a nutritious and filling pudding. Top with your favorite fruits or nuts.\n",
            "6. Breakfast burrito: Fill a whole grain tortilla with scrambled eggs, black beans, avocado, and salsa for a quick and portable breakfast option.\n",
            "\n",
            "Feel free to customize these ideas to suit your tastes and dietary needs. And of course, don't forget to stay hydrated with some water or herbal tea in the morning. Enjoy your breakfast!\n"
          ]
        }
      ]
    },
    {
      "cell_type": "code",
      "source": [],
      "metadata": {
        "id": "ve-taCJTJcNj"
      },
      "execution_count": null,
      "outputs": []
    }
  ]
}